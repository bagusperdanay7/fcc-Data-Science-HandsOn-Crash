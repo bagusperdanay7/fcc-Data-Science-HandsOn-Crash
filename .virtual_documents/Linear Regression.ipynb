import pandas as pd
import numpy as np

import matplotlib.pyplot as plt

from sklearn.linear_model import LinearRegression

import statsmodels.api as sm

%matplotlib inline


!conda install -c conda-forge statsmodels


import asiap
